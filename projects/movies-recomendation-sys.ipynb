{
 "cells": [
  {
   "cell_type": "code",
   "execution_count": 31,
   "metadata": {},
   "outputs": [],
   "source": [
    "## Lets create a Movies recommendation system with machine learning\n",
    "## Import the required libraries\n",
    "\n",
    "import pandas as pd\n",
    "import numpy as np\n",
    "from sklearn.metrics.pairwise import cosine_similarity\n",
    "from sklearn.feature_extraction.text import TfidfVectorizer\n"
   ]
  },
  {
   "cell_type": "code",
   "execution_count": 32,
   "metadata": {},
   "outputs": [],
   "source": [
    "# load the dataset\n",
    "movies_data =  pd.read_csv('../movies.csv')\n"
   ]
  },
  {
   "cell_type": "code",
   "execution_count": 33,
   "metadata": {},
   "outputs": [
    {
     "data": {
      "text/html": [
       "<div>\n",
       "<style scoped>\n",
       "    .dataframe tbody tr th:only-of-type {\n",
       "        vertical-align: middle;\n",
       "    }\n",
       "\n",
       "    .dataframe tbody tr th {\n",
       "        vertical-align: top;\n",
       "    }\n",
       "\n",
       "    .dataframe thead th {\n",
       "        text-align: right;\n",
       "    }\n",
       "</style>\n",
       "<table border=\"1\" class=\"dataframe\">\n",
       "  <thead>\n",
       "    <tr style=\"text-align: right;\">\n",
       "      <th></th>\n",
       "      <th>Audience score %</th>\n",
       "      <th>Profitability</th>\n",
       "      <th>Rotten Tomatoes %</th>\n",
       "      <th>Year</th>\n",
       "    </tr>\n",
       "  </thead>\n",
       "  <tbody>\n",
       "    <tr>\n",
       "      <th>count</th>\n",
       "      <td>77.000000</td>\n",
       "      <td>77.000000</td>\n",
       "      <td>77.000000</td>\n",
       "      <td>77.000000</td>\n",
       "    </tr>\n",
       "    <tr>\n",
       "      <th>mean</th>\n",
       "      <td>63.727273</td>\n",
       "      <td>4.599483</td>\n",
       "      <td>46.701299</td>\n",
       "      <td>2009.077922</td>\n",
       "    </tr>\n",
       "    <tr>\n",
       "      <th>std</th>\n",
       "      <td>13.657113</td>\n",
       "      <td>8.031990</td>\n",
       "      <td>26.095001</td>\n",
       "      <td>1.354974</td>\n",
       "    </tr>\n",
       "    <tr>\n",
       "      <th>min</th>\n",
       "      <td>35.000000</td>\n",
       "      <td>0.000000</td>\n",
       "      <td>3.000000</td>\n",
       "      <td>2007.000000</td>\n",
       "    </tr>\n",
       "    <tr>\n",
       "      <th>25%</th>\n",
       "      <td>52.000000</td>\n",
       "      <td>1.751351</td>\n",
       "      <td>26.000000</td>\n",
       "      <td>2008.000000</td>\n",
       "    </tr>\n",
       "    <tr>\n",
       "      <th>50%</th>\n",
       "      <td>64.000000</td>\n",
       "      <td>2.642353</td>\n",
       "      <td>45.000000</td>\n",
       "      <td>2009.000000</td>\n",
       "    </tr>\n",
       "    <tr>\n",
       "      <th>75%</th>\n",
       "      <td>76.000000</td>\n",
       "      <td>5.103117</td>\n",
       "      <td>64.000000</td>\n",
       "      <td>2010.000000</td>\n",
       "    </tr>\n",
       "    <tr>\n",
       "      <th>max</th>\n",
       "      <td>89.000000</td>\n",
       "      <td>66.934000</td>\n",
       "      <td>96.000000</td>\n",
       "      <td>2011.000000</td>\n",
       "    </tr>\n",
       "  </tbody>\n",
       "</table>\n",
       "</div>"
      ],
      "text/plain": [
       "       Audience score %  Profitability  Rotten Tomatoes %         Year\n",
       "count         77.000000      77.000000          77.000000    77.000000\n",
       "mean          63.727273       4.599483          46.701299  2009.077922\n",
       "std           13.657113       8.031990          26.095001     1.354974\n",
       "min           35.000000       0.000000           3.000000  2007.000000\n",
       "25%           52.000000       1.751351          26.000000  2008.000000\n",
       "50%           64.000000       2.642353          45.000000  2009.000000\n",
       "75%           76.000000       5.103117          64.000000  2010.000000\n",
       "max           89.000000      66.934000          96.000000  2011.000000"
      ]
     },
     "execution_count": 33,
     "metadata": {},
     "output_type": "execute_result"
    }
   ],
   "source": [
    "movies_data.describe()\n"
   ]
  },
  {
   "cell_type": "code",
   "execution_count": 34,
   "metadata": {},
   "outputs": [
    {
     "name": "stdout",
     "output_type": "stream",
     "text": [
      "<class 'pandas.core.frame.DataFrame'>\n",
      "RangeIndex: 77 entries, 0 to 76\n",
      "Data columns (total 8 columns):\n",
      " #   Column             Non-Null Count  Dtype  \n",
      "---  ------             --------------  -----  \n",
      " 0   Film               77 non-null     object \n",
      " 1   Genre              77 non-null     object \n",
      " 2   Lead Studio        77 non-null     object \n",
      " 3   Audience score %   77 non-null     int64  \n",
      " 4   Profitability      77 non-null     float64\n",
      " 5   Rotten Tomatoes %  77 non-null     int64  \n",
      " 6   Worldwide Gross    77 non-null     object \n",
      " 7   Year               77 non-null     int64  \n",
      "dtypes: float64(1), int64(3), object(4)\n",
      "memory usage: 4.9+ KB\n"
     ]
    }
   ],
   "source": [
    "movies_data.info()\n"
   ]
  },
  {
   "cell_type": "code",
   "execution_count": 35,
   "metadata": {},
   "outputs": [
    {
     "data": {
      "text/html": [
       "<div>\n",
       "<style scoped>\n",
       "    .dataframe tbody tr th:only-of-type {\n",
       "        vertical-align: middle;\n",
       "    }\n",
       "\n",
       "    .dataframe tbody tr th {\n",
       "        vertical-align: top;\n",
       "    }\n",
       "\n",
       "    .dataframe thead th {\n",
       "        text-align: right;\n",
       "    }\n",
       "</style>\n",
       "<table border=\"1\" class=\"dataframe\">\n",
       "  <thead>\n",
       "    <tr style=\"text-align: right;\">\n",
       "      <th></th>\n",
       "      <th>Film</th>\n",
       "      <th>Genre</th>\n",
       "      <th>Lead Studio</th>\n",
       "      <th>Audience score %</th>\n",
       "      <th>Profitability</th>\n",
       "      <th>Rotten Tomatoes %</th>\n",
       "      <th>Worldwide Gross</th>\n",
       "      <th>Year</th>\n",
       "    </tr>\n",
       "  </thead>\n",
       "  <tbody>\n",
       "    <tr>\n",
       "      <th>0</th>\n",
       "      <td>Zack and Miri Make a Porno</td>\n",
       "      <td>Romance</td>\n",
       "      <td>The Weinstein Company</td>\n",
       "      <td>70</td>\n",
       "      <td>1.747542</td>\n",
       "      <td>64</td>\n",
       "      <td>$41.94</td>\n",
       "      <td>2008</td>\n",
       "    </tr>\n",
       "    <tr>\n",
       "      <th>1</th>\n",
       "      <td>Youth in Revolt</td>\n",
       "      <td>Comedy</td>\n",
       "      <td>The Weinstein Company</td>\n",
       "      <td>52</td>\n",
       "      <td>1.090000</td>\n",
       "      <td>68</td>\n",
       "      <td>$19.62</td>\n",
       "      <td>2010</td>\n",
       "    </tr>\n",
       "    <tr>\n",
       "      <th>2</th>\n",
       "      <td>You Will Meet a Tall Dark Stranger</td>\n",
       "      <td>Comedy</td>\n",
       "      <td>Independent</td>\n",
       "      <td>35</td>\n",
       "      <td>1.211818</td>\n",
       "      <td>43</td>\n",
       "      <td>$26.66</td>\n",
       "      <td>2010</td>\n",
       "    </tr>\n",
       "    <tr>\n",
       "      <th>3</th>\n",
       "      <td>When in Rome</td>\n",
       "      <td>Comedy</td>\n",
       "      <td>Disney</td>\n",
       "      <td>44</td>\n",
       "      <td>0.000000</td>\n",
       "      <td>15</td>\n",
       "      <td>$43.04</td>\n",
       "      <td>2010</td>\n",
       "    </tr>\n",
       "    <tr>\n",
       "      <th>4</th>\n",
       "      <td>What Happens in Vegas</td>\n",
       "      <td>Comedy</td>\n",
       "      <td>Fox</td>\n",
       "      <td>72</td>\n",
       "      <td>6.267647</td>\n",
       "      <td>28</td>\n",
       "      <td>$219.37</td>\n",
       "      <td>2008</td>\n",
       "    </tr>\n",
       "  </tbody>\n",
       "</table>\n",
       "</div>"
      ],
      "text/plain": [
       "                                 Film    Genre            Lead Studio  \\\n",
       "0          Zack and Miri Make a Porno  Romance  The Weinstein Company   \n",
       "1                     Youth in Revolt   Comedy  The Weinstein Company   \n",
       "2  You Will Meet a Tall Dark Stranger   Comedy            Independent   \n",
       "3                        When in Rome   Comedy                 Disney   \n",
       "4               What Happens in Vegas   Comedy                    Fox   \n",
       "\n",
       "   Audience score %  Profitability  Rotten Tomatoes % Worldwide Gross  Year  \n",
       "0                70       1.747542                 64         $41.94   2008  \n",
       "1                52       1.090000                 68         $19.62   2010  \n",
       "2                35       1.211818                 43         $26.66   2010  \n",
       "3                44       0.000000                 15         $43.04   2010  \n",
       "4                72       6.267647                 28        $219.37   2008  "
      ]
     },
     "execution_count": 35,
     "metadata": {},
     "output_type": "execute_result"
    }
   ],
   "source": [
    "movies_data.head()\n"
   ]
  },
  {
   "cell_type": "code",
   "execution_count": 36,
   "metadata": {},
   "outputs": [
    {
     "data": {
      "text/plain": [
       "(77, 8)"
      ]
     },
     "execution_count": 36,
     "metadata": {},
     "output_type": "execute_result"
    }
   ],
   "source": [
    "movies_data.shape\n"
   ]
  },
  {
   "cell_type": "code",
   "execution_count": 37,
   "metadata": {},
   "outputs": [
    {
     "name": "stdout",
     "output_type": "stream",
     "text": [
      "['Genre']\n"
     ]
    }
   ],
   "source": [
    "# Feionatures selections that impact recommendation system\n",
    "feature_selection =['Genre']\n",
    "print(feature_selection)\n"
   ]
  },
  {
   "cell_type": "code",
   "execution_count": 38,
   "metadata": {},
   "outputs": [],
   "source": [
    "## check the null and missing values and handle them\n",
    "for features in feature_selection:\n",
    "   movies_data[features]= movies_data[features].fillna('')\n"
   ]
  },
  {
   "cell_type": "code",
   "execution_count": 39,
   "metadata": {},
   "outputs": [
    {
     "name": "stdout",
     "output_type": "stream",
     "text": [
      "0     Romance\n",
      "1      Comedy\n",
      "2      Comedy\n",
      "3      Comedy\n",
      "4      Comedy\n",
      "       ...   \n",
      "72    romance\n",
      "73      Drama\n",
      "74      Drama\n",
      "75     Comedy\n",
      "76     comedy\n",
      "Name: Genre, Length: 77, dtype: object\n"
     ]
    }
   ],
   "source": [
    "# Combine all respection features\n",
    "combine_features = movies_data['Genre']\n",
    "print(combine_features)\n"
   ]
  },
  {
   "cell_type": "code",
   "execution_count": 40,
   "metadata": {},
   "outputs": [],
   "source": [
    "# text to vector\n",
    "text_to_vector= TfidfVectorizer()\n"
   ]
  },
  {
   "cell_type": "code",
   "execution_count": 41,
   "metadata": {},
   "outputs": [],
   "source": [
    "feature_vectorizer = text_to_vector.fit_transform(combine_features)\n"
   ]
  },
  {
   "cell_type": "code",
   "execution_count": 42,
   "metadata": {},
   "outputs": [
    {
     "name": "stdout",
     "output_type": "stream",
     "text": [
      "<Compressed Sparse Row sparse matrix of dtype 'float64'\n",
      "\twith 77 stored elements and shape (77, 8)>\n",
      "  Coords\tValues\n",
      "  (0, 6)\t1.0\n",
      "  (1, 3)\t1.0\n",
      "  (2, 3)\t1.0\n",
      "  (3, 3)\t1.0\n",
      "  (4, 3)\t1.0\n",
      "  (5, 4)\t1.0\n",
      "  (6, 1)\t1.0\n",
      "  (7, 6)\t1.0\n",
      "  (8, 6)\t1.0\n",
      "  (9, 3)\t1.0\n",
      "  (10, 6)\t1.0\n",
      "  (11, 6)\t1.0\n",
      "  (12, 6)\t1.0\n",
      "  (13, 3)\t1.0\n",
      "  (14, 4)\t1.0\n",
      "  (15, 4)\t1.0\n",
      "  (16, 3)\t1.0\n",
      "  (17, 3)\t1.0\n",
      "  (18, 3)\t1.0\n",
      "  (19, 4)\t1.0\n",
      "  (20, 5)\t1.0\n",
      "  (21, 3)\t1.0\n",
      "  (22, 1)\t1.0\n",
      "  (23, 6)\t1.0\n",
      "  (24, 3)\t1.0\n",
      "  :\t:\n",
      "  (52, 3)\t1.0\n",
      "  (53, 3)\t1.0\n",
      "  (54, 3)\t1.0\n",
      "  (55, 0)\t1.0\n",
      "  (56, 3)\t1.0\n",
      "  (57, 6)\t1.0\n",
      "  (58, 3)\t1.0\n",
      "  (59, 3)\t1.0\n",
      "  (60, 3)\t1.0\n",
      "  (61, 3)\t1.0\n",
      "  (62, 3)\t1.0\n",
      "  (63, 3)\t1.0\n",
      "  (64, 1)\t1.0\n",
      "  (65, 1)\t1.0\n",
      "  (66, 3)\t1.0\n",
      "  (67, 3)\t1.0\n",
      "  (68, 4)\t1.0\n",
      "  (69, 3)\t1.0\n",
      "  (70, 4)\t1.0\n",
      "  (71, 3)\t1.0\n",
      "  (72, 6)\t1.0\n",
      "  (73, 4)\t1.0\n",
      "  (74, 4)\t1.0\n",
      "  (75, 3)\t1.0\n",
      "  (76, 3)\t1.0\n"
     ]
    }
   ],
   "source": [
    "print(feature_vectorizer)\n"
   ]
  },
  {
   "cell_type": "code",
   "execution_count": 43,
   "metadata": {},
   "outputs": [],
   "source": [
    "## which movies data is similar\n",
    "similarity = cosine_similarity(feature_vectorizer)\n"
   ]
  },
  {
   "cell_type": "code",
   "execution_count": 44,
   "metadata": {},
   "outputs": [
    {
     "data": {
      "text/plain": [
       "(77, 77)"
      ]
     },
     "execution_count": 44,
     "metadata": {},
     "output_type": "execute_result"
    }
   ],
   "source": [
    "similarity.shape\n"
   ]
  },
  {
   "cell_type": "code",
   "execution_count": 45,
   "metadata": {},
   "outputs": [],
   "source": [
    "# get /input / recommendation from user\n",
    "movie_name = 'A Dangerous Method '\n"
   ]
  },
  {
   "cell_type": "code",
   "execution_count": 46,
   "metadata": {},
   "outputs": [
    {
     "name": "stdout",
     "output_type": "stream",
     "text": [
      "['Zack and Miri Make a Porno', 'Youth in Revolt', 'You Will Meet a Tall Dark Stranger', 'When in Rome', 'What Happens in Vegas', 'Water For Elephants', 'WALL-E', 'Waitress', 'Waiting For Forever', \"Valentine's Day\", \"Tyler Perry's Why Did I get Married\", 'Twilight: Breaking Dawn', 'Twilight', 'The Ugly Truth', 'The Twilight Saga: New Moon', \"The Time Traveler's Wife\", 'The Proposal', 'The Invention of Lying', 'The Heartbreak Kid', 'The Duchess', 'The Curious Case of Benjamin Button', 'The Back-up Plan', 'Tangled', 'Something Borrowed', \"She's Out of My League\", 'Sex and the City Two', 'Sex and the City 2', 'Sex and the City', 'Remember Me', 'Rachel Getting Married', 'Penelope', 'P.S. I Love You', 'Over Her Dead Body', 'Our Family Wedding', 'One Day', 'Not Easily Broken', 'No Reservations', \"Nick and Norah's Infinite Playlist\", \"New Year's Eve\", 'My Week with Marilyn', 'Music and Lyrics', 'Monte Carlo', 'Miss Pettigrew Lives for a Day', 'Midnight in Paris', 'Marley and Me', 'Mamma Mia!', 'Mamma Mia!', 'Made of Honor', 'Love Happens', 'Love & Other Drugs', 'Life as We Know It', 'License to Wed', 'Letters to Juliet', 'Leap Year', 'Knocked Up', 'Killers', 'Just Wright', 'Jane Eyre', \"It's Complicated\", 'I Love You Phillip Morris', 'High School Musical 3: Senior Year', \"He's Just Not That Into You\", 'Good Luck Chuck', 'Going the Distance', 'Gnomeo and Juliet', 'Gnomeo and Juliet', 'Ghosts of Girlfriends Past', 'Four Christmases', 'Fireproof', 'Enchanted', 'Dear John', 'Beginners', 'Across the Universe', 'A Serious Man', 'A Dangerous Method', '27 Dresses', '(500) Days of Summer']\n"
     ]
    }
   ],
   "source": [
    "list_movies_names=  movies_data['Film'].tolist()\n",
    "print(list_movies_names)\n"
   ]
  },
  {
   "cell_type": "code",
   "execution_count": 47,
   "metadata": {},
   "outputs": [
    {
     "name": "stdout",
     "output_type": "stream",
     "text": [
      "[]\n"
     ]
    }
   ],
   "source": [
    "import difflib\n",
    "find_close_matcher = difflib.get_close_matches(movie_name, list(movie_name))\n",
    "print(find_close_matcher)\n"
   ]
  },
  {
   "cell_type": "code",
   "execution_count": 48,
   "metadata": {},
   "outputs": [
    {
     "ename": "IndexError",
     "evalue": "list index out of range",
     "output_type": "error",
     "traceback": [
      "\u001b[1;31m---------------------------------------------------------------------------\u001b[0m",
      "\u001b[1;31mIndexError\u001b[0m                                Traceback (most recent call last)",
      "Cell \u001b[1;32mIn[48], line 2\u001b[0m\n\u001b[0;32m      1\u001b[0m \u001b[38;5;66;03m## find the index of movie with titles\u001b[39;00m\n\u001b[1;32m----> 2\u001b[0m movie_index \u001b[38;5;241m=\u001b[39m movies_data[movies_data\u001b[38;5;241m.\u001b[39mFilm \u001b[38;5;241m==\u001b[39m \u001b[43mfind_close_matcher\u001b[49m\u001b[43m[\u001b[49m\u001b[38;5;241;43m0\u001b[39;49m\u001b[43m]\u001b[49m[\u001b[38;5;124m'\u001b[39m\u001b[38;5;124mindex\u001b[39m\u001b[38;5;124m'\u001b[39m]]\u001b[38;5;241m.\u001b[39mvalues[\u001b[38;5;241m0\u001b[39m]\n\u001b[0;32m      3\u001b[0m \u001b[38;5;28mprint\u001b[39m(movie_index)\n",
      "\u001b[1;31mIndexError\u001b[0m: list index out of range"
     ]
    }
   ],
   "source": [
    "## find the index of movie with titles\n",
    "movie_index = movies_data[movies_data.Film == find_close_matcher[0]['index']].values[0]\n",
    "print(movie_index)\n"
   ]
  },
  {
   "cell_type": "code",
   "execution_count": 49,
   "metadata": {},
   "outputs": [
    {
     "ename": "NameError",
     "evalue": "name 'movie_index' is not defined",
     "output_type": "error",
     "traceback": [
      "\u001b[1;31m---------------------------------------------------------------------------\u001b[0m",
      "\u001b[1;31mNameError\u001b[0m                                 Traceback (most recent call last)",
      "Cell \u001b[1;32mIn[49], line 1\u001b[0m\n\u001b[1;32m----> 1\u001b[0m similarity_list \u001b[38;5;241m=\u001b[39m \u001b[38;5;28mlist\u001b[39m(\u001b[38;5;28menumerate\u001b[39m(similarity[\u001b[43mmovie_index\u001b[49m]))\n\u001b[0;32m      2\u001b[0m \u001b[38;5;28mprint\u001b[39m(similarity_list)\n",
      "\u001b[1;31mNameError\u001b[0m: name 'movie_index' is not defined"
     ]
    }
   ],
   "source": [
    "similarity_list = list(enumerate(similarity[movie_index]))\n",
    "print(similarity_list)\n"
   ]
  },
  {
   "cell_type": "code",
   "execution_count": null,
   "metadata": {},
   "outputs": [],
   "source": [
    "## sort the similarity index\n",
    "sort_similarity_list = sorted(similarity_list, key=lambda, x:x[1],reverse=True)\n"
   ]
  },
  {
   "cell_type": "code",
   "execution_count": 50,
   "metadata": {},
   "outputs": [
    {
     "ename": "NameError",
     "evalue": "name 'sort_similarity_list' is not defined",
     "output_type": "error",
     "traceback": [
      "\u001b[1;31m---------------------------------------------------------------------------\u001b[0m",
      "\u001b[1;31mNameError\u001b[0m                                 Traceback (most recent call last)",
      "Cell \u001b[1;32mIn[50], line 1\u001b[0m\n\u001b[1;32m----> 1\u001b[0m \u001b[38;5;28mprint\u001b[39m(\u001b[43msort_similarity_list\u001b[49m)\n",
      "\u001b[1;31mNameError\u001b[0m: name 'sort_similarity_list' is not defined"
     ]
    }
   ],
   "source": [
    "print(sort_similarity_list)\n"
   ]
  },
  {
   "cell_type": "code",
   "execution_count": 51,
   "metadata": {},
   "outputs": [
    {
     "name": "stdout",
     "output_type": "stream",
     "text": [
      "movies name for me\n"
     ]
    },
    {
     "ename": "NameError",
     "evalue": "name 'sort_similarity_list' is not defined",
     "output_type": "error",
     "traceback": [
      "\u001b[1;31m---------------------------------------------------------------------------\u001b[0m",
      "\u001b[1;31mNameError\u001b[0m                                 Traceback (most recent call last)",
      "Cell \u001b[1;32mIn[51], line 5\u001b[0m\n\u001b[0;32m      2\u001b[0m \u001b[38;5;28mprint\u001b[39m(\u001b[38;5;124m'\u001b[39m\u001b[38;5;124mmovies name for me\u001b[39m\u001b[38;5;124m'\u001b[39m)\n\u001b[0;32m      3\u001b[0m i\u001b[38;5;241m=\u001b[39m\u001b[38;5;241m1\u001b[39m\n\u001b[1;32m----> 5\u001b[0m \u001b[38;5;28;01mfor\u001b[39;00m movie \u001b[38;5;129;01min\u001b[39;00m \u001b[43msort_similarity_list\u001b[49m:\n\u001b[0;32m      6\u001b[0m    index\u001b[38;5;241m=\u001b[39m movie[\u001b[38;5;241m0\u001b[39m]\n\u001b[0;32m      7\u001b[0m    movie_title \u001b[38;5;241m=\u001b[39m movies_data[movies_data\u001b[38;5;241m.\u001b[39mindex\u001b[38;5;241m==\u001b[39mindex][\u001b[38;5;124m'\u001b[39m\u001b[38;5;124mtitle\u001b[39m\u001b[38;5;124m'\u001b[39m]\u001b[38;5;241m.\u001b[39mvaluesif\n",
      "\u001b[1;31mNameError\u001b[0m: name 'sort_similarity_list' is not defined"
     ]
    }
   ],
   "source": [
    "# print movies based on there index\n",
    "print('movies name for me')\n",
    "i=1\n",
    "\n",
    "for movie in sort_similarity_list:\n",
    "   index= movie[0]\n",
    "   movie_title = movies_data[movies_data.index==index]['title'].valuesif\n",
    "   if(i<40):\n",
    "     print(i, movie_title)"
   ]
  }
 ],
 "metadata": {
  "kernelspec": {
   "display_name": ".venv",
   "language": "python",
   "name": "python3"
  },
  "language_info": {
   "codemirror_mode": {
    "name": "ipython",
    "version": 3
   },
   "file_extension": ".py",
   "mimetype": "text/x-python",
   "name": "python",
   "nbconvert_exporter": "python",
   "pygments_lexer": "ipython3",
   "version": "3.13.1"
  }
 },
 "nbformat": 4,
 "nbformat_minor": 2
}
